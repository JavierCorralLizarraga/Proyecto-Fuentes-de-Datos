{
 "cells": [
  {
   "cell_type": "code",
   "execution_count": 2,
   "metadata": {},
   "outputs": [],
   "source": [
    "import psycopg2\n",
    "import yaml\n",
    "import pandas as pd\n",
    "import seaborn as sns\n",
    "import plotly.express as px\n",
    "import matplotlib.pyplot as plt"
   ]
  },
  {
   "cell_type": "markdown",
   "metadata": {},
   "source": [
    "# 7. Analisis con Pandas"
   ]
  },
  {
   "cell_type": "markdown",
   "metadata": {},
   "source": [
    "**1. Ocupa la función get_db_conn() a través de la cuál obtenemos una conexión a la BD (postgres) con psycopg2 leyendo del archivo credentials.yaml (utilizando la función read_yaml()) las credenciales de acceso a la BD.**"
   ]
  },
  {
   "cell_type": "code",
   "execution_count": 3,
   "metadata": {},
   "outputs": [
    {
     "ename": "NameError",
     "evalue": "name 'read_yaml' is not defined",
     "output_type": "error",
     "traceback": [
      "\u001b[1;31m---------------------------------------------------------------------------\u001b[0m",
      "\u001b[1;31mNameError\u001b[0m                                 Traceback (most recent call last)",
      "\u001b[1;32m<ipython-input-3-6f0b9c2bc261>\u001b[0m in \u001b[0;36m<module>\u001b[1;34m\u001b[0m\n\u001b[0;32m      1\u001b[0m \u001b[1;32mdef\u001b[0m \u001b[0mget_db_conn\u001b[0m\u001b[1;33m(\u001b[0m\u001b[0mcred\u001b[0m\u001b[1;33m)\u001b[0m\u001b[1;33m:\u001b[0m\u001b[1;33m\u001b[0m\u001b[1;33m\u001b[0m\u001b[0m\n\u001b[0;32m      2\u001b[0m     \u001b[0mread_yaml\u001b[0m\u001b[1;33m(\u001b[0m\u001b[0mcred\u001b[0m\u001b[1;33m)\u001b[0m\u001b[1;33m\u001b[0m\u001b[1;33m\u001b[0m\u001b[0m\n\u001b[1;32m----> 3\u001b[1;33m \u001b[0mdb_conn\u001b[0m \u001b[1;33m=\u001b[0m \u001b[0mget_db_conn\u001b[0m\u001b[1;33m(\u001b[0m\u001b[1;34m\"conf\\\\credentials.yaml\"\u001b[0m\u001b[1;33m)\u001b[0m\u001b[1;33m\u001b[0m\u001b[1;33m\u001b[0m\u001b[0m\n\u001b[0m",
      "\u001b[1;32m<ipython-input-3-6f0b9c2bc261>\u001b[0m in \u001b[0;36mget_db_conn\u001b[1;34m(cred)\u001b[0m\n\u001b[0;32m      1\u001b[0m \u001b[1;32mdef\u001b[0m \u001b[0mget_db_conn\u001b[0m\u001b[1;33m(\u001b[0m\u001b[0mcred\u001b[0m\u001b[1;33m)\u001b[0m\u001b[1;33m:\u001b[0m\u001b[1;33m\u001b[0m\u001b[1;33m\u001b[0m\u001b[0m\n\u001b[1;32m----> 2\u001b[1;33m     \u001b[0mread_yaml\u001b[0m\u001b[1;33m(\u001b[0m\u001b[0mcred\u001b[0m\u001b[1;33m)\u001b[0m\u001b[1;33m\u001b[0m\u001b[1;33m\u001b[0m\u001b[0m\n\u001b[0m\u001b[0;32m      3\u001b[0m \u001b[0mdb_conn\u001b[0m \u001b[1;33m=\u001b[0m \u001b[0mget_db_conn\u001b[0m\u001b[1;33m(\u001b[0m\u001b[1;34m\"conf\\\\credentials.yaml\"\u001b[0m\u001b[1;33m)\u001b[0m\u001b[1;33m\u001b[0m\u001b[1;33m\u001b[0m\u001b[0m\n",
      "\u001b[1;31mNameError\u001b[0m: name 'read_yaml' is not defined"
     ]
    }
   ],
   "source": [
    "def get_db_conn(cred):\n",
    "    read_yaml(cred)\n",
    "db_conn = get_db_conn(\"conf\\\\credentials.yaml\")"
   ]
  },
  {
   "cell_type": "markdown",
   "metadata": {},
   "source": [
    "**2. Genera un query sql en donde obtengas el id_estacion, nombre, longitud, latitud, regular, preimum, diesel de todos los precios. <- Necesitarás un inner join.**"
   ]
  },
  {
   "cell_type": "code",
   "execution_count": 4,
   "metadata": {},
   "outputs": [
    {
     "ename": "NameError",
     "evalue": "name 'db_conn' is not defined",
     "output_type": "error",
     "traceback": [
      "\u001b[1;31m---------------------------------------------------------------------------\u001b[0m",
      "\u001b[1;31mNameError\u001b[0m                                 Traceback (most recent call last)",
      "\u001b[1;32m<ipython-input-4-11cf97940d2c>\u001b[0m in \u001b[0;36m<module>\u001b[1;34m\u001b[0m\n\u001b[0;32m      1\u001b[0m \u001b[0mquery\u001b[0m\u001b[1;33m=\u001b[0m\u001b[1;34m\"SELECT e.id_estacion, e.nombre, e.longitud, e.latitud, p.regular, p.premium, p.diesel FROM raw.estaciones e INNER JOIN raw.precios p on e.id_estacion = p.estacion_servicio;\"\u001b[0m\u001b[1;33m\u001b[0m\u001b[1;33m\u001b[0m\u001b[0m\n\u001b[1;32m----> 2\u001b[1;33m \u001b[0mdata\u001b[0m \u001b[1;33m=\u001b[0m \u001b[0mpd\u001b[0m\u001b[1;33m.\u001b[0m\u001b[0mread_sql\u001b[0m\u001b[1;33m(\u001b[0m\u001b[0mquery\u001b[0m\u001b[1;33m,\u001b[0m \u001b[0mdb_conn\u001b[0m\u001b[1;33m)\u001b[0m\u001b[1;33m\u001b[0m\u001b[1;33m\u001b[0m\u001b[0m\n\u001b[0m",
      "\u001b[1;31mNameError\u001b[0m: name 'db_conn' is not defined"
     ]
    }
   ],
   "source": [
    "query=\"SELECT e.id_estacion, e.nombre, e.longitud, e.latitud, p.regular, p.premium, p.diesel FROM raw.estaciones e INNER JOIN raw.precios p on e.id_estacion = p.estacion_servicio;\"\n",
    "data = pd.read_sql(query, db_conn)"
   ]
  },
  {
   "cell_type": "markdown",
   "metadata": {},
   "source": [
    "**En vista de que no me puedo conectar a la base de datos de postgres lo hare a manita**"
   ]
  },
  {
   "cell_type": "code",
   "execution_count": 5,
   "metadata": {},
   "outputs": [
    {
     "name": "stdout",
     "output_type": "stream",
     "text": [
      "   id_estacion                                    nombre   latitud   longitud\n",
      "0        23062              servicios plazas ap sa de cv  19.27859  -99.54836\n",
      "1        20769                humberto de la cruz murias  16.68978  -93.71970\n",
      "2        23063  servicios ecologicos mar caribe sa de cv  21.16699  -86.84862\n",
      "3        23064             super servicio toloxasa de cv  19.04457  -98.37003\n",
      "4        23065                   topgas j ortiz sa de cv  21.02812 -101.86280\n",
      "   estacion_servicio  regular  premium  diesel\n",
      "0               8775    19.97    22.47     NaN\n",
      "1               8831    20.69    21.76   21.70\n",
      "2              26541    15.89      NaN   19.09\n",
      "3               3348    20.49    22.19     NaN\n",
      "4               3969    20.76    22.57   22.77\n"
     ]
    }
   ],
   "source": [
    "precios=pd.read_csv(\"precios.csv\")\n",
    "estaciones=pd.read_csv(\"estaciones.csv\")\n",
    "print(estaciones.head())\n",
    "print(precios.head())"
   ]
  },
  {
   "cell_type": "code",
   "execution_count": 6,
   "metadata": {},
   "outputs": [
    {
     "data": {
      "text/html": [
       "<div>\n",
       "<style scoped>\n",
       "    .dataframe tbody tr th:only-of-type {\n",
       "        vertical-align: middle;\n",
       "    }\n",
       "\n",
       "    .dataframe tbody tr th {\n",
       "        vertical-align: top;\n",
       "    }\n",
       "\n",
       "    .dataframe thead th {\n",
       "        text-align: right;\n",
       "    }\n",
       "</style>\n",
       "<table border=\"1\" class=\"dataframe\">\n",
       "  <thead>\n",
       "    <tr style=\"text-align: right;\">\n",
       "      <th></th>\n",
       "      <th>estacion_servicio</th>\n",
       "      <th>regular</th>\n",
       "      <th>premium</th>\n",
       "      <th>diesel</th>\n",
       "      <th>id_estacion</th>\n",
       "      <th>nombre</th>\n",
       "      <th>latitud</th>\n",
       "      <th>longitud</th>\n",
       "    </tr>\n",
       "  </thead>\n",
       "  <tbody>\n",
       "    <tr>\n",
       "      <th>0</th>\n",
       "      <td>8775</td>\n",
       "      <td>19.97</td>\n",
       "      <td>22.47</td>\n",
       "      <td>NaN</td>\n",
       "      <td>8775</td>\n",
       "      <td>servicio automotriz xolasa de cv</td>\n",
       "      <td>19.39430</td>\n",
       "      <td>-99.14134</td>\n",
       "    </tr>\n",
       "    <tr>\n",
       "      <th>1</th>\n",
       "      <td>8831</td>\n",
       "      <td>20.69</td>\n",
       "      <td>21.76</td>\n",
       "      <td>21.70</td>\n",
       "      <td>8831</td>\n",
       "      <td>operadora  la sabana sa de cv</td>\n",
       "      <td>16.83010</td>\n",
       "      <td>-99.75737</td>\n",
       "    </tr>\n",
       "    <tr>\n",
       "      <th>2</th>\n",
       "      <td>26541</td>\n",
       "      <td>15.89</td>\n",
       "      <td>NaN</td>\n",
       "      <td>19.09</td>\n",
       "      <td>26541</td>\n",
       "      <td>combustibles de orientesa de cv</td>\n",
       "      <td>26.07270</td>\n",
       "      <td>-98.29295</td>\n",
       "    </tr>\n",
       "    <tr>\n",
       "      <th>3</th>\n",
       "      <td>3348</td>\n",
       "      <td>20.49</td>\n",
       "      <td>22.19</td>\n",
       "      <td>NaN</td>\n",
       "      <td>3348</td>\n",
       "      <td>gasolineria valencianasa de cv</td>\n",
       "      <td>19.47174</td>\n",
       "      <td>-99.05446</td>\n",
       "    </tr>\n",
       "    <tr>\n",
       "      <th>4</th>\n",
       "      <td>3969</td>\n",
       "      <td>20.76</td>\n",
       "      <td>22.57</td>\n",
       "      <td>22.77</td>\n",
       "      <td>3969</td>\n",
       "      <td>comercializadora nandalumi sa de cv</td>\n",
       "      <td>16.77555</td>\n",
       "      <td>-93.10127</td>\n",
       "    </tr>\n",
       "    <tr>\n",
       "      <th>...</th>\n",
       "      <td>...</td>\n",
       "      <td>...</td>\n",
       "      <td>...</td>\n",
       "      <td>...</td>\n",
       "      <td>...</td>\n",
       "      <td>...</td>\n",
       "      <td>...</td>\n",
       "      <td>...</td>\n",
       "    </tr>\n",
       "    <tr>\n",
       "      <th>12649</th>\n",
       "      <td>11896</td>\n",
       "      <td>20.99</td>\n",
       "      <td>22.99</td>\n",
       "      <td>21.99</td>\n",
       "      <td>11896</td>\n",
       "      <td>gasolinera pirekua sa de cv</td>\n",
       "      <td>19.49753</td>\n",
       "      <td>-101.60020</td>\n",
       "    </tr>\n",
       "    <tr>\n",
       "      <th>12650</th>\n",
       "      <td>11897</td>\n",
       "      <td>20.74</td>\n",
       "      <td>22.90</td>\n",
       "      <td>NaN</td>\n",
       "      <td>11897</td>\n",
       "      <td>servicio norte 45 sa de cv</td>\n",
       "      <td>19.49570</td>\n",
       "      <td>-99.15932</td>\n",
       "    </tr>\n",
       "    <tr>\n",
       "      <th>12651</th>\n",
       "      <td>11898</td>\n",
       "      <td>19.59</td>\n",
       "      <td>21.99</td>\n",
       "      <td>NaN</td>\n",
       "      <td>11898</td>\n",
       "      <td>servicio lutronsa de cv</td>\n",
       "      <td>19.54331</td>\n",
       "      <td>-99.02317</td>\n",
       "    </tr>\n",
       "    <tr>\n",
       "      <th>12652</th>\n",
       "      <td>14539</td>\n",
       "      <td>19.81</td>\n",
       "      <td>20.80</td>\n",
       "      <td>20.10</td>\n",
       "      <td>14539</td>\n",
       "      <td>autoservicio anvales sa de cv</td>\n",
       "      <td>28.59577</td>\n",
       "      <td>-105.99860</td>\n",
       "    </tr>\n",
       "    <tr>\n",
       "      <th>12653</th>\n",
       "      <td>14580</td>\n",
       "      <td>19.99</td>\n",
       "      <td>22.89</td>\n",
       "      <td>NaN</td>\n",
       "      <td>14580</td>\n",
       "      <td>servicios gasolineros de mexicosa de cv</td>\n",
       "      <td>21.88589</td>\n",
       "      <td>-102.31300</td>\n",
       "    </tr>\n",
       "  </tbody>\n",
       "</table>\n",
       "<p>12654 rows × 8 columns</p>\n",
       "</div>"
      ],
      "text/plain": [
       "       estacion_servicio  regular  premium  diesel  id_estacion  \\\n",
       "0                   8775    19.97    22.47     NaN         8775   \n",
       "1                   8831    20.69    21.76   21.70         8831   \n",
       "2                  26541    15.89      NaN   19.09        26541   \n",
       "3                   3348    20.49    22.19     NaN         3348   \n",
       "4                   3969    20.76    22.57   22.77         3969   \n",
       "...                  ...      ...      ...     ...          ...   \n",
       "12649              11896    20.99    22.99   21.99        11896   \n",
       "12650              11897    20.74    22.90     NaN        11897   \n",
       "12651              11898    19.59    21.99     NaN        11898   \n",
       "12652              14539    19.81    20.80   20.10        14539   \n",
       "12653              14580    19.99    22.89     NaN        14580   \n",
       "\n",
       "                                        nombre   latitud   longitud  \n",
       "0             servicio automotriz xolasa de cv  19.39430  -99.14134  \n",
       "1               operadora  la sabana sa de cv   16.83010  -99.75737  \n",
       "2             combustibles de orientesa de cv   26.07270  -98.29295  \n",
       "3               gasolineria valencianasa de cv  19.47174  -99.05446  \n",
       "4          comercializadora nandalumi sa de cv  16.77555  -93.10127  \n",
       "...                                        ...       ...        ...  \n",
       "12649              gasolinera pirekua sa de cv  19.49753 -101.60020  \n",
       "12650               servicio norte 45 sa de cv  19.49570  -99.15932  \n",
       "12651                  servicio lutronsa de cv  19.54331  -99.02317  \n",
       "12652            autoservicio anvales sa de cv  28.59577 -105.99860  \n",
       "12653  servicios gasolineros de mexicosa de cv  21.88589 -102.31300  \n",
       "\n",
       "[12654 rows x 8 columns]"
      ]
     },
     "execution_count": 6,
     "metadata": {},
     "output_type": "execute_result"
    }
   ],
   "source": [
    "data=pd.merge(precios,estaciones,left_on='estacion_servicio',right_on='id_estacion')\n",
    "data"
   ]
  },
  {
   "cell_type": "markdown",
   "metadata": {},
   "source": [
    "## En Pandas"
   ]
  },
  {
   "cell_type": "markdown",
   "metadata": {},
   "source": [
    "**Utilizando shape**\n"
   ]
  },
  {
   "cell_type": "code",
   "execution_count": 7,
   "metadata": {},
   "outputs": [
    {
     "name": "stdout",
     "output_type": "stream",
     "text": [
      "Se tienen 12654 observaciones\n"
     ]
    }
   ],
   "source": [
    "# cuantas observaciones tienes?\n",
    "print(\"Se tienen \" + str(data.shape[0]) + \" observaciones\")"
   ]
  },
  {
   "cell_type": "markdown",
   "metadata": {},
   "source": [
    "**Utilizando is.na():**"
   ]
  },
  {
   "cell_type": "code",
   "execution_count": 8,
   "metadata": {},
   "outputs": [
    {
     "name": "stdout",
     "output_type": "stream",
     "text": [
      "64\n"
     ]
    }
   ],
   "source": [
    "# cuantas estaciones no tienen gasolina regular?\n",
    "print(data['regular'].isna().sum())"
   ]
  },
  {
   "cell_type": "code",
   "execution_count": 9,
   "metadata": {},
   "outputs": [
    {
     "name": "stdout",
     "output_type": "stream",
     "text": [
      "901\n"
     ]
    }
   ],
   "source": [
    "# cuantas estaciones no tienen gasolina premium?\n",
    "print(data['premium'].isna().sum())"
   ]
  },
  {
   "cell_type": "code",
   "execution_count": 10,
   "metadata": {},
   "outputs": [
    {
     "name": "stdout",
     "output_type": "stream",
     "text": [
      "3239\n"
     ]
    }
   ],
   "source": [
    "# cuantas estaciones no tienen gasolina diesel?\n",
    "print(data['diesel'].isna().sum())"
   ]
  },
  {
   "cell_type": "code",
   "execution_count": 11,
   "metadata": {},
   "outputs": [
    {
     "name": "stdout",
     "output_type": "stream",
     "text": [
      "123\n"
     ]
    }
   ],
   "source": [
    "# cuantas estaciones solo tienen gasolina regular?\n",
    "print(data[(data['premium'].isna()) & (data[\"diesel\"].isna())].id_estacion.count())"
   ]
  },
  {
   "cell_type": "code",
   "execution_count": 12,
   "metadata": {},
   "outputs": [
    {
     "name": "stdout",
     "output_type": "stream",
     "text": [
      "3114\n"
     ]
    }
   ],
   "source": [
    "# cuantas estaciones solo tienen gasolina regular y premium?\n",
    "print(data[(data['regular'].notna()) & (data[\"premium\"].notna()) & (data[\"diesel\"].isna())].id_estacion.count())"
   ]
  },
  {
   "cell_type": "code",
   "execution_count": 13,
   "metadata": {},
   "outputs": [
    {
     "name": "stdout",
     "output_type": "stream",
     "text": [
      "718\n"
     ]
    }
   ],
   "source": [
    "# cuantas estaciones solo tienen gasolina regual y diesel?\n",
    "print(data[(data['regular'].notna()) & (data[\"diesel\"].notna()) & (data[\"premium\"].isna())].id_estacion.count())"
   ]
  },
  {
   "cell_type": "code",
   "execution_count": 14,
   "metadata": {},
   "outputs": [
    {
     "name": "stdout",
     "output_type": "stream",
     "text": [
      "Segun los datos las siguientes estaciones dieron gasolina \"gratis\":\n",
      "2246     comercializadora nlibjasa de cv  e09020\n",
      "8433     comercializadora nlibjasa de cv  e09020\n",
      "8570     comercializadora nlibjasa de cv  e09020\n",
      "10744    comercializadora nlibjasa de cv  e09020\n",
      "Name: nombre, dtype: object\n"
     ]
    }
   ],
   "source": [
    "# que estaciones (nombre) dieron gasolina premium \"gratis\" de acuerdo a los datos?\n",
    "print('Segun los datos las siguientes estaciones dieron gasolina \"gratis\":')\n",
    "print(data[data['premium']==0.0].nombre)"
   ]
  },
  {
   "cell_type": "code",
   "execution_count": 15,
   "metadata": {},
   "outputs": [
    {
     "name": "stdout",
     "output_type": "stream",
     "text": [
      "8635 estaciones venden de los 3 tipos de gasolina\n"
     ]
    }
   ],
   "source": [
    "# cuantas estaciones de gasolina venden de los 3 tipos de gasolina?\n",
    "aux=data[['diesel', 'premium', 'regular']].dropna() \n",
    "print(str(aux.shape[0])+\" estaciones venden de los 3 tipos de gasolina\")"
   ]
  },
  {
   "cell_type": "markdown",
   "metadata": {},
   "source": [
    "**1. En caso que tus columnas  latitud  y  longitud  no cumplan con el formato de coordenadas geoespaciales: latitud debe\n",
    "estar en una escala del 10 al 99 y longitud debe estar en el rango de 99 al 120; tendrás que convertirlas a ese rango**\n",
    "\n",
    "A falta de especificacion con la palabra convertir, interpretare que si una latitud o longitud tiene un valor mayor al posible, lo bajare al valor maximo posible, de forma analoga, para valores menores de los posibles, los subire al valor minimo posible"
   ]
  },
  {
   "cell_type": "code",
   "execution_count": 16,
   "metadata": {},
   "outputs": [],
   "source": [
    "lat=[]\n",
    "for element in data[\"latitud\"]:\n",
    "    raw=str(element).replace(\"-\", \"\")\n",
    "    if not 10 < element:\n",
    "        lat.append(element := 10)\n",
    "    elif not element < 99:\n",
    "        lat.append(element := 99)\n",
    "    else:\n",
    "        lat.append(element)\n",
    "data[\"lat\"]=pd.Series(lat, name=\"lat\")\n",
    "data[\"lat\"]=pd.to_numeric(data[\"lat\"])"
   ]
  },
  {
   "cell_type": "code",
   "execution_count": 18,
   "metadata": {},
   "outputs": [],
   "source": [
    "lon=[]\n",
    "for element in data[\"longitud\"]:\n",
    "    raw=str(element).replace(\"-\", \"\")\n",
    "    if not 99 < element:\n",
    "        lon.append(element := 99)\n",
    "    elif not element < 120:\n",
    "        lon.append(element := 120)\n",
    "    else:\n",
    "        lon.append(element)\n",
    "data[\"lon\"]=pd.Series(lon, name=\"lon\")\n",
    "data[\"lon\"]=pd.to_numeric(data[\"lon\"])"
   ]
  },
  {
   "cell_type": "code",
   "execution_count": 19,
   "metadata": {},
   "outputs": [],
   "source": [
    "# Eliminamos las columnas previas\n",
    "data.drop([\"latitud\", \"longitud\"], axis=1, inplace=True)"
   ]
  },
  {
   "cell_type": "code",
   "execution_count": 20,
   "metadata": {},
   "outputs": [
    {
     "data": {
      "text/html": [
       "<div>\n",
       "<style scoped>\n",
       "    .dataframe tbody tr th:only-of-type {\n",
       "        vertical-align: middle;\n",
       "    }\n",
       "\n",
       "    .dataframe tbody tr th {\n",
       "        vertical-align: top;\n",
       "    }\n",
       "\n",
       "    .dataframe thead th {\n",
       "        text-align: right;\n",
       "    }\n",
       "</style>\n",
       "<table border=\"1\" class=\"dataframe\">\n",
       "  <thead>\n",
       "    <tr style=\"text-align: right;\">\n",
       "      <th></th>\n",
       "      <th>estacion_servicio</th>\n",
       "      <th>regular</th>\n",
       "      <th>premium</th>\n",
       "      <th>diesel</th>\n",
       "      <th>id_estacion</th>\n",
       "      <th>lat</th>\n",
       "      <th>lon</th>\n",
       "    </tr>\n",
       "  </thead>\n",
       "  <tbody>\n",
       "    <tr>\n",
       "      <th>count</th>\n",
       "      <td>12654.000000</td>\n",
       "      <td>12590.000000</td>\n",
       "      <td>11753.000000</td>\n",
       "      <td>9415.000000</td>\n",
       "      <td>12654.000000</td>\n",
       "      <td>12654.000000</td>\n",
       "      <td>12654.000000</td>\n",
       "    </tr>\n",
       "    <tr>\n",
       "      <th>mean</th>\n",
       "      <td>10042.227912</td>\n",
       "      <td>20.176058</td>\n",
       "      <td>22.204994</td>\n",
       "      <td>21.638612</td>\n",
       "      <td>10042.227912</td>\n",
       "      <td>22.352391</td>\n",
       "      <td>99.005136</td>\n",
       "    </tr>\n",
       "    <tr>\n",
       "      <th>std</th>\n",
       "      <td>6521.712131</td>\n",
       "      <td>1.337807</td>\n",
       "      <td>1.449679</td>\n",
       "      <td>1.214127</td>\n",
       "      <td>6521.712131</td>\n",
       "      <td>4.219054</td>\n",
       "      <td>0.224785</td>\n",
       "    </tr>\n",
       "    <tr>\n",
       "      <th>min</th>\n",
       "      <td>2039.000000</td>\n",
       "      <td>11.710000</td>\n",
       "      <td>0.000000</td>\n",
       "      <td>0.000000</td>\n",
       "      <td>2039.000000</td>\n",
       "      <td>10.000000</td>\n",
       "      <td>99.000000</td>\n",
       "    </tr>\n",
       "    <tr>\n",
       "      <th>25%</th>\n",
       "      <td>5338.250000</td>\n",
       "      <td>19.750000</td>\n",
       "      <td>21.880000</td>\n",
       "      <td>21.150000</td>\n",
       "      <td>5338.250000</td>\n",
       "      <td>19.393650</td>\n",
       "      <td>99.000000</td>\n",
       "    </tr>\n",
       "    <tr>\n",
       "      <th>50%</th>\n",
       "      <td>8509.500000</td>\n",
       "      <td>20.290000</td>\n",
       "      <td>22.450000</td>\n",
       "      <td>21.760000</td>\n",
       "      <td>8509.500000</td>\n",
       "      <td>20.683395</td>\n",
       "      <td>99.000000</td>\n",
       "    </tr>\n",
       "    <tr>\n",
       "      <th>75%</th>\n",
       "      <td>12314.500000</td>\n",
       "      <td>20.990000</td>\n",
       "      <td>22.990000</td>\n",
       "      <td>22.290000</td>\n",
       "      <td>12314.500000</td>\n",
       "      <td>25.545897</td>\n",
       "      <td>99.000000</td>\n",
       "    </tr>\n",
       "    <tr>\n",
       "      <th>max</th>\n",
       "      <td>27600.000000</td>\n",
       "      <td>25.050000</td>\n",
       "      <td>26.060000</td>\n",
       "      <td>29.290000</td>\n",
       "      <td>27600.000000</td>\n",
       "      <td>99.000000</td>\n",
       "      <td>120.000000</td>\n",
       "    </tr>\n",
       "  </tbody>\n",
       "</table>\n",
       "</div>"
      ],
      "text/plain": [
       "       estacion_servicio       regular       premium       diesel  \\\n",
       "count       12654.000000  12590.000000  11753.000000  9415.000000   \n",
       "mean        10042.227912     20.176058     22.204994    21.638612   \n",
       "std          6521.712131      1.337807      1.449679     1.214127   \n",
       "min          2039.000000     11.710000      0.000000     0.000000   \n",
       "25%          5338.250000     19.750000     21.880000    21.150000   \n",
       "50%          8509.500000     20.290000     22.450000    21.760000   \n",
       "75%         12314.500000     20.990000     22.990000    22.290000   \n",
       "max         27600.000000     25.050000     26.060000    29.290000   \n",
       "\n",
       "        id_estacion           lat           lon  \n",
       "count  12654.000000  12654.000000  12654.000000  \n",
       "mean   10042.227912     22.352391     99.005136  \n",
       "std     6521.712131      4.219054      0.224785  \n",
       "min     2039.000000     10.000000     99.000000  \n",
       "25%     5338.250000     19.393650     99.000000  \n",
       "50%     8509.500000     20.683395     99.000000  \n",
       "75%    12314.500000     25.545897     99.000000  \n",
       "max    27600.000000     99.000000    120.000000  "
      ]
     },
     "execution_count": 20,
     "metadata": {},
     "output_type": "execute_result"
    }
   ],
   "source": [
    "#Genera un  describe() . Interpreta el significado de cada métrica en el  describe  para las columnas  regular, premium, diesel\n",
    "data.describe()"
   ]
  },
  {
   "cell_type": "markdown",
   "metadata": {},
   "source": [
    "**Interpretacion:**\n",
    "\n",
    "**count:** notamos que tenemos muchas mas estaciones que venden gasolina regular que premium y a su vez mas premium que diesel\n",
    "\n",
    "**mean:** vemos que en promedio la gasolina premium es mas cara que la diesel y a su vez la diesel es mas cara que la regular\n",
    "\n",
    "**std:** la desviacion estandar es una medida de variabilidad que nos permite ver cuanto fluctua un dato, en este caso el precio de cada gasolinera. Podemos ver que el que tiene mayor std es la gasolina premium, seguida de la regular y finalmente la diesel, lo cual es curioso porque la diesel a pesar de tener ciertos outliers como lo de venderla \"gratis\", esto probablemente se deba a subsidios del gobierno y la estabilidad producida por la naturaleza de las maquinas que la usan, como maquinaria pesada y traileres. Por otro lado la premium al no estar ligada a ningun bien esencial puede fluctuar mucho mas conforme a la ley de la oferta y la demanda\n",
    "\n",
    "**min:** vemos que la gasolina premium y diesel tienen entradas en 0 pesos, lo cual significa que en se dio \"gratis\" a diferencia de la regular que siempre tuvo un costo \n",
    "\n",
    "**cuartiles:**\n",
    "todos tienen la particularidad de que el mayor precio siempre es el de premium seguido de diesel y despues regular\n",
    "\n",
    "**25%:** vemos que el mayor es el premium, seguido de diesel y despues regular, lo cual nos dice que un cuarto de las gasolineras dieron precios menores a estos\n",
    "\n",
    "**50%:** analogo al de 25 notamos que un medio de las gasolineras dieron precios menores a estos, siendo el mayor la gasolina premium, seguida de diesel y finalmente regular\n",
    "\n",
    "**75%:** analogo al de 25 y 50 notamos que un tres cuartos de las gasolineras dieron precios menores a estos, siendo el mayor la gasolina premium, seguida de diesel y finalmente regular\n",
    "\n",
    "**max:** vemos que si bien en promedio la gasolina premium es mas cara que la diesel, en cierto momento, el precio de la gasolina diesel supero el maximo de precios de la gasolina premium, a su vez vemos que el precio maximo de la gasolina regular es menor a los dos anteriores\n"
   ]
  },
  {
   "cell_type": "code",
   "execution_count": 22,
   "metadata": {},
   "outputs": [
    {
     "data": {
      "text/html": [
       "<div>\n",
       "<style scoped>\n",
       "    .dataframe tbody tr th:only-of-type {\n",
       "        vertical-align: middle;\n",
       "    }\n",
       "\n",
       "    .dataframe tbody tr th {\n",
       "        vertical-align: top;\n",
       "    }\n",
       "\n",
       "    .dataframe thead th {\n",
       "        text-align: right;\n",
       "    }\n",
       "</style>\n",
       "<table border=\"1\" class=\"dataframe\">\n",
       "  <thead>\n",
       "    <tr style=\"text-align: right;\">\n",
       "      <th></th>\n",
       "      <th>nombre</th>\n",
       "      <th>lon</th>\n",
       "      <th>lat</th>\n",
       "    </tr>\n",
       "  </thead>\n",
       "  <tbody>\n",
       "    <tr>\n",
       "      <th>712</th>\n",
       "      <td>combustibles aja sa de cv</td>\n",
       "      <td>99.0</td>\n",
       "      <td>19.06049</td>\n",
       "    </tr>\n",
       "    <tr>\n",
       "      <th>3193</th>\n",
       "      <td>combustibles resurgimiento sa de cv</td>\n",
       "      <td>99.0</td>\n",
       "      <td>19.04007</td>\n",
       "    </tr>\n",
       "    <tr>\n",
       "      <th>4587</th>\n",
       "      <td>combustibles jv sa de cv</td>\n",
       "      <td>99.0</td>\n",
       "      <td>19.03503</td>\n",
       "    </tr>\n",
       "  </tbody>\n",
       "</table>\n",
       "</div>"
      ],
      "text/plain": [
       "                                   nombre   lon       lat\n",
       "712             combustibles aja sa de cv  99.0  19.06049\n",
       "3193  combustibles resurgimiento sa de cv  99.0  19.04007\n",
       "4587             combustibles jv sa de cv  99.0  19.03503"
      ]
     },
     "execution_count": 22,
     "metadata": {},
     "output_type": "execute_result"
    }
   ],
   "source": [
    "#Cuál es la estación de gasolina -nombre y coordenadas- con el precio más caro de gasolina regular\n",
    "data[data[\"regular\"]==data.regular.max()][[\"nombre\", \"lon\", \"lat\"]]"
   ]
  },
  {
   "cell_type": "code",
   "execution_count": 24,
   "metadata": {},
   "outputs": [
    {
     "data": {
      "text/html": [
       "<div>\n",
       "<style scoped>\n",
       "    .dataframe tbody tr th:only-of-type {\n",
       "        vertical-align: middle;\n",
       "    }\n",
       "\n",
       "    .dataframe tbody tr th {\n",
       "        vertical-align: top;\n",
       "    }\n",
       "\n",
       "    .dataframe thead th {\n",
       "        text-align: right;\n",
       "    }\n",
       "</style>\n",
       "<table border=\"1\" class=\"dataframe\">\n",
       "  <thead>\n",
       "    <tr style=\"text-align: right;\">\n",
       "      <th></th>\n",
       "      <th>nombre</th>\n",
       "      <th>lon</th>\n",
       "      <th>lat</th>\n",
       "    </tr>\n",
       "  </thead>\n",
       "  <tbody>\n",
       "    <tr>\n",
       "      <th>712</th>\n",
       "      <td>combustibles aja sa de cv</td>\n",
       "      <td>-98.21723</td>\n",
       "      <td>19.06049</td>\n",
       "    </tr>\n",
       "    <tr>\n",
       "      <th>3193</th>\n",
       "      <td>combustibles resurgimiento sa de cv</td>\n",
       "      <td>-98.18135</td>\n",
       "      <td>19.04007</td>\n",
       "    </tr>\n",
       "    <tr>\n",
       "      <th>4587</th>\n",
       "      <td>combustibles jv sa de cv</td>\n",
       "      <td>-98.18570</td>\n",
       "      <td>19.03503</td>\n",
       "    </tr>\n",
       "  </tbody>\n",
       "</table>\n",
       "</div>"
      ],
      "text/plain": [
       "                                   nombre       lon       lat\n",
       "712             combustibles aja sa de cv -98.21723  19.06049\n",
       "3193  combustibles resurgimiento sa de cv -98.18135  19.04007\n",
       "4587             combustibles jv sa de cv -98.18570  19.03503"
      ]
     },
     "execution_count": 24,
     "metadata": {},
     "output_type": "execute_result"
    }
   ],
   "source": [
    "#Cuál es la estación de gasolina -nombre y coordenadas- con el precio más caro de gasolina premium\n",
    "data[data[\"premium\"]==data.premium.max()][[\"nombre\", \"lon\", \"lat\"]]"
   ]
  },
  {
   "cell_type": "code",
   "execution_count": 26,
   "metadata": {},
   "outputs": [
    {
     "data": {
      "text/html": [
       "<div>\n",
       "<style scoped>\n",
       "    .dataframe tbody tr th:only-of-type {\n",
       "        vertical-align: middle;\n",
       "    }\n",
       "\n",
       "    .dataframe tbody tr th {\n",
       "        vertical-align: top;\n",
       "    }\n",
       "\n",
       "    .dataframe thead th {\n",
       "        text-align: right;\n",
       "    }\n",
       "</style>\n",
       "<table border=\"1\" class=\"dataframe\">\n",
       "  <thead>\n",
       "    <tr style=\"text-align: right;\">\n",
       "      <th></th>\n",
       "      <th>nombre</th>\n",
       "      <th>lon</th>\n",
       "      <th>lat</th>\n",
       "    </tr>\n",
       "  </thead>\n",
       "  <tbody>\n",
       "    <tr>\n",
       "      <th>11189</th>\n",
       "      <td>surtilago gasolineriassa de cv</td>\n",
       "      <td>-101.2121</td>\n",
       "      <td>19.7268</td>\n",
       "    </tr>\n",
       "  </tbody>\n",
       "</table>\n",
       "</div>"
      ],
      "text/plain": [
       "                               nombre       lon      lat\n",
       "11189  surtilago gasolineriassa de cv -101.2121  19.7268"
      ]
     },
     "execution_count": 26,
     "metadata": {},
     "output_type": "execute_result"
    }
   ],
   "source": [
    "#Cuál es la estación de gasolina -nombre y coordenadas- con el precio más caro de gasolina diesel\n",
    "data[data[\"diesel\"]==data.diesel.max()][[\"nombre\", \"lon\", \"lat\"]]"
   ]
  },
  {
   "cell_type": "code",
   "execution_count": 27,
   "metadata": {},
   "outputs": [
    {
     "data": {
      "text/html": [
       "<div>\n",
       "<style scoped>\n",
       "    .dataframe tbody tr th:only-of-type {\n",
       "        vertical-align: middle;\n",
       "    }\n",
       "\n",
       "    .dataframe tbody tr th {\n",
       "        vertical-align: top;\n",
       "    }\n",
       "\n",
       "    .dataframe thead th {\n",
       "        text-align: right;\n",
       "    }\n",
       "</style>\n",
       "<table border=\"1\" class=\"dataframe\">\n",
       "  <thead>\n",
       "    <tr style=\"text-align: right;\">\n",
       "      <th></th>\n",
       "      <th>nombre</th>\n",
       "      <th>lon</th>\n",
       "      <th>lat</th>\n",
       "    </tr>\n",
       "  </thead>\n",
       "  <tbody>\n",
       "    <tr>\n",
       "      <th>4905</th>\n",
       "      <td>energeticos del valle sa de cv</td>\n",
       "      <td>-98.08273</td>\n",
       "      <td>25.98355</td>\n",
       "    </tr>\n",
       "  </tbody>\n",
       "</table>\n",
       "</div>"
      ],
      "text/plain": [
       "                              nombre       lon       lat\n",
       "4905  energeticos del valle sa de cv -98.08273  25.98355"
      ]
     },
     "execution_count": 27,
     "metadata": {},
     "output_type": "execute_result"
    }
   ],
   "source": [
    "#Cuál es la estación de gasolina -nombre y coordenadas- con el precio más barato de gasolina regular\n",
    "data[data[\"regular\"]==data.regular.min()][[\"nombre\", \"lon\", \"lat\"]]"
   ]
  },
  {
   "cell_type": "code",
   "execution_count": 28,
   "metadata": {},
   "outputs": [
    {
     "data": {
      "text/html": [
       "<div>\n",
       "<style scoped>\n",
       "    .dataframe tbody tr th:only-of-type {\n",
       "        vertical-align: middle;\n",
       "    }\n",
       "\n",
       "    .dataframe tbody tr th {\n",
       "        vertical-align: top;\n",
       "    }\n",
       "\n",
       "    .dataframe thead th {\n",
       "        text-align: right;\n",
       "    }\n",
       "</style>\n",
       "<table border=\"1\" class=\"dataframe\">\n",
       "  <thead>\n",
       "    <tr style=\"text-align: right;\">\n",
       "      <th></th>\n",
       "      <th>nombre</th>\n",
       "      <th>lon</th>\n",
       "      <th>lat</th>\n",
       "    </tr>\n",
       "  </thead>\n",
       "  <tbody>\n",
       "    <tr>\n",
       "      <th>2246</th>\n",
       "      <td>comercializadora nlibjasa de cv  e09020</td>\n",
       "      <td>-97.43740</td>\n",
       "      <td>25.83686</td>\n",
       "    </tr>\n",
       "    <tr>\n",
       "      <th>8433</th>\n",
       "      <td>comercializadora nlibjasa de cv  e09020</td>\n",
       "      <td>-97.50220</td>\n",
       "      <td>25.71633</td>\n",
       "    </tr>\n",
       "    <tr>\n",
       "      <th>8570</th>\n",
       "      <td>comercializadora nlibjasa de cv  e09020</td>\n",
       "      <td>-97.43650</td>\n",
       "      <td>25.78265</td>\n",
       "    </tr>\n",
       "    <tr>\n",
       "      <th>10744</th>\n",
       "      <td>comercializadora nlibjasa de cv  e09020</td>\n",
       "      <td>-97.55154</td>\n",
       "      <td>25.87252</td>\n",
       "    </tr>\n",
       "  </tbody>\n",
       "</table>\n",
       "</div>"
      ],
      "text/plain": [
       "                                        nombre       lon       lat\n",
       "2246   comercializadora nlibjasa de cv  e09020 -97.43740  25.83686\n",
       "8433   comercializadora nlibjasa de cv  e09020 -97.50220  25.71633\n",
       "8570   comercializadora nlibjasa de cv  e09020 -97.43650  25.78265\n",
       "10744  comercializadora nlibjasa de cv  e09020 -97.55154  25.87252"
      ]
     },
     "execution_count": 28,
     "metadata": {},
     "output_type": "execute_result"
    }
   ],
   "source": [
    "#Cuál es la estación de gasolina -nombre y coordenadas- con el precio más barato de gasolina premium\n",
    "data[data[\"premium\"]==data.premium.min()][[\"nombre\", \"lon\", \"lat\"]]"
   ]
  },
  {
   "cell_type": "code",
   "execution_count": 31,
   "metadata": {},
   "outputs": [
    {
     "data": {
      "text/html": [
       "<div>\n",
       "<style scoped>\n",
       "    .dataframe tbody tr th:only-of-type {\n",
       "        vertical-align: middle;\n",
       "    }\n",
       "\n",
       "    .dataframe tbody tr th {\n",
       "        vertical-align: top;\n",
       "    }\n",
       "\n",
       "    .dataframe thead th {\n",
       "        text-align: right;\n",
       "    }\n",
       "</style>\n",
       "<table border=\"1\" class=\"dataframe\">\n",
       "  <thead>\n",
       "    <tr style=\"text-align: right;\">\n",
       "      <th></th>\n",
       "      <th>nombre</th>\n",
       "      <th>lon</th>\n",
       "      <th>lat</th>\n",
       "    </tr>\n",
       "  </thead>\n",
       "  <tbody>\n",
       "    <tr>\n",
       "      <th>1971</th>\n",
       "      <td>bp estaciones y servicios energeticossa de cv</td>\n",
       "      <td>-117.0545</td>\n",
       "      <td>32.366</td>\n",
       "    </tr>\n",
       "  </tbody>\n",
       "</table>\n",
       "</div>"
      ],
      "text/plain": [
       "                                             nombre       lon     lat\n",
       "1971  bp estaciones y servicios energeticossa de cv -117.0545  32.366"
      ]
     },
     "execution_count": 31,
     "metadata": {},
     "output_type": "execute_result"
    }
   ],
   "source": [
    "#Cuál es la estación de gasolina -nombre y coordenadas- con el precio más barato de gasolina diesel\n",
    "data[data[\"diesel\"]==data.premium.min()][[\"nombre\", \"lon\", \"lat\"]]"
   ]
  }
 ],
 "metadata": {
  "kernelspec": {
   "display_name": "Python 3",
   "language": "python",
   "name": "python3"
  },
  "language_info": {
   "codemirror_mode": {
    "name": "ipython",
    "version": 3
   },
   "file_extension": ".py",
   "mimetype": "text/x-python",
   "name": "python",
   "nbconvert_exporter": "python",
   "pygments_lexer": "ipython3",
   "version": "3.8.3"
  }
 },
 "nbformat": 4,
 "nbformat_minor": 4
}
