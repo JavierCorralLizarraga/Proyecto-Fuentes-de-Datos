{
 "cells": [
  {
   "cell_type": "code",
   "execution_count": 10,
   "metadata": {},
   "outputs": [],
   "source": [
    "import psycopg2\n",
    "import yaml\n",
    "import pandas as pd\n",
    "import seaborn as sns\n",
    "import plotly.express as px\n",
    "import matplotlib.pyplot as plt"
   ]
  },
  {
   "cell_type": "markdown",
   "metadata": {},
   "source": [
    "**1. Ocupa la función get_db_conn() a través de la cuál obtenemos una conexión a la BD (postgres) con psycopg2 leyendo del archivo credentials.yaml (utilizando la función read_yaml()) las credenciales de acceso a la BD.**"
   ]
  },
  {
   "cell_type": "code",
   "execution_count": 18,
   "metadata": {},
   "outputs": [
    {
     "ename": "NameError",
     "evalue": "name 'read_yaml' is not defined",
     "output_type": "error",
     "traceback": [
      "\u001b[1;31m---------------------------------------------------------------------------\u001b[0m",
      "\u001b[1;31mNameError\u001b[0m                                 Traceback (most recent call last)",
      "\u001b[1;32m<ipython-input-18-6f0b9c2bc261>\u001b[0m in \u001b[0;36m<module>\u001b[1;34m\u001b[0m\n\u001b[0;32m      1\u001b[0m \u001b[1;32mdef\u001b[0m \u001b[0mget_db_conn\u001b[0m\u001b[1;33m(\u001b[0m\u001b[0mcred\u001b[0m\u001b[1;33m)\u001b[0m\u001b[1;33m:\u001b[0m\u001b[1;33m\u001b[0m\u001b[1;33m\u001b[0m\u001b[0m\n\u001b[0;32m      2\u001b[0m     \u001b[0mread_yaml\u001b[0m\u001b[1;33m(\u001b[0m\u001b[0mcred\u001b[0m\u001b[1;33m)\u001b[0m\u001b[1;33m\u001b[0m\u001b[1;33m\u001b[0m\u001b[0m\n\u001b[1;32m----> 3\u001b[1;33m \u001b[0mdb_conn\u001b[0m \u001b[1;33m=\u001b[0m \u001b[0mget_db_conn\u001b[0m\u001b[1;33m(\u001b[0m\u001b[1;34m\"conf\\\\credentials.yaml\"\u001b[0m\u001b[1;33m)\u001b[0m\u001b[1;33m\u001b[0m\u001b[1;33m\u001b[0m\u001b[0m\n\u001b[0m",
      "\u001b[1;32m<ipython-input-18-6f0b9c2bc261>\u001b[0m in \u001b[0;36mget_db_conn\u001b[1;34m(cred)\u001b[0m\n\u001b[0;32m      1\u001b[0m \u001b[1;32mdef\u001b[0m \u001b[0mget_db_conn\u001b[0m\u001b[1;33m(\u001b[0m\u001b[0mcred\u001b[0m\u001b[1;33m)\u001b[0m\u001b[1;33m:\u001b[0m\u001b[1;33m\u001b[0m\u001b[1;33m\u001b[0m\u001b[0m\n\u001b[1;32m----> 2\u001b[1;33m     \u001b[0mread_yaml\u001b[0m\u001b[1;33m(\u001b[0m\u001b[0mcred\u001b[0m\u001b[1;33m)\u001b[0m\u001b[1;33m\u001b[0m\u001b[1;33m\u001b[0m\u001b[0m\n\u001b[0m\u001b[0;32m      3\u001b[0m \u001b[0mdb_conn\u001b[0m \u001b[1;33m=\u001b[0m \u001b[0mget_db_conn\u001b[0m\u001b[1;33m(\u001b[0m\u001b[1;34m\"conf\\\\credentials.yaml\"\u001b[0m\u001b[1;33m)\u001b[0m\u001b[1;33m\u001b[0m\u001b[1;33m\u001b[0m\u001b[0m\n",
      "\u001b[1;31mNameError\u001b[0m: name 'read_yaml' is not defined"
     ]
    }
   ],
   "source": [
    "def get_db_conn(cred):\n",
    "    read_yaml(cred)\n",
    "db_conn = get_db_conn(\"conf\\\\credentials.yaml\")"
   ]
  },
  {
   "cell_type": "markdown",
   "metadata": {},
   "source": [
    "**2. Genera un query sql en donde obtengas el id_estacion, nombre, longitud, latitud, regular, preimum, diesel de todos los precios. <- Necesitarás un inner join.**"
   ]
  },
  {
   "cell_type": "code",
   "execution_count": 35,
   "metadata": {},
   "outputs": [
    {
     "ename": "NameError",
     "evalue": "name 'db_conn' is not defined",
     "output_type": "error",
     "traceback": [
      "\u001b[1;31m---------------------------------------------------------------------------\u001b[0m",
      "\u001b[1;31mNameError\u001b[0m                                 Traceback (most recent call last)",
      "\u001b[1;32m<ipython-input-35-11cf97940d2c>\u001b[0m in \u001b[0;36m<module>\u001b[1;34m\u001b[0m\n\u001b[0;32m      1\u001b[0m \u001b[0mquery\u001b[0m\u001b[1;33m=\u001b[0m\u001b[1;34m\"SELECT e.id_estacion, e.nombre, e.longitud, e.latitud, p.regular, p.premium, p.diesel FROM raw.estaciones e INNER JOIN raw.precios p on e.id_estacion = p.estacion_servicio;\"\u001b[0m\u001b[1;33m\u001b[0m\u001b[1;33m\u001b[0m\u001b[0m\n\u001b[1;32m----> 2\u001b[1;33m \u001b[0mdata\u001b[0m \u001b[1;33m=\u001b[0m \u001b[0mpd\u001b[0m\u001b[1;33m.\u001b[0m\u001b[0mread_sql\u001b[0m\u001b[1;33m(\u001b[0m\u001b[0mquery\u001b[0m\u001b[1;33m,\u001b[0m \u001b[0mdb_conn\u001b[0m\u001b[1;33m)\u001b[0m\u001b[1;33m\u001b[0m\u001b[1;33m\u001b[0m\u001b[0m\n\u001b[0m",
      "\u001b[1;31mNameError\u001b[0m: name 'db_conn' is not defined"
     ]
    }
   ],
   "source": [
    "query=\"SELECT e.id_estacion, e.nombre, e.longitud, e.latitud, p.regular, p.premium, p.diesel FROM raw.estaciones e INNER JOIN raw.precios p on e.id_estacion = p.estacion_servicio;\"\n",
    "data = pd.read_sql(query, db_conn)"
   ]
  },
  {
   "cell_type": "markdown",
   "metadata": {},
   "source": [
    "**En vista de que no me puedo conectar a la base de datos de postgres lo hare a manita**"
   ]
  },
  {
   "cell_type": "code",
   "execution_count": 27,
   "metadata": {},
   "outputs": [
    {
     "name": "stdout",
     "output_type": "stream",
     "text": [
      "   id_estacion                                    nombre   latitud   longitud\n",
      "0        23062              servicios plazas ap sa de cv  19.27859  -99.54836\n",
      "1        20769                humberto de la cruz murias  16.68978  -93.71970\n",
      "2        23063  servicios ecologicos mar caribe sa de cv  21.16699  -86.84862\n",
      "3        23064             super servicio toloxasa de cv  19.04457  -98.37003\n",
      "4        23065                   topgas j ortiz sa de cv  21.02812 -101.86280\n",
      "   estacion_servicio  regular  premium  diesel\n",
      "0               8775    19.97    22.47     NaN\n",
      "1               8831    20.69    21.76   21.70\n",
      "2              26541    15.89      NaN   19.09\n",
      "3               3348    20.49    22.19     NaN\n",
      "4               3969    20.76    22.57   22.77\n"
     ]
    }
   ],
   "source": [
    "precios=pd.read_csv(\"precios.csv\")\n",
    "estaciones=pd.read_csv(\"estaciones.csv\")\n",
    "print(estaciones.head())\n",
    "print(precios.head())"
   ]
  },
  {
   "cell_type": "code",
   "execution_count": 22,
   "metadata": {},
   "outputs": [
    {
     "data": {
      "text/html": [
       "<div>\n",
       "<style scoped>\n",
       "    .dataframe tbody tr th:only-of-type {\n",
       "        vertical-align: middle;\n",
       "    }\n",
       "\n",
       "    .dataframe tbody tr th {\n",
       "        vertical-align: top;\n",
       "    }\n",
       "\n",
       "    .dataframe thead th {\n",
       "        text-align: right;\n",
       "    }\n",
       "</style>\n",
       "<table border=\"1\" class=\"dataframe\">\n",
       "  <thead>\n",
       "    <tr style=\"text-align: right;\">\n",
       "      <th></th>\n",
       "      <th>estacion_servicio</th>\n",
       "      <th>regular</th>\n",
       "      <th>premium</th>\n",
       "      <th>diesel</th>\n",
       "      <th>id_estacion</th>\n",
       "      <th>nombre</th>\n",
       "      <th>latitud</th>\n",
       "      <th>longitud</th>\n",
       "    </tr>\n",
       "  </thead>\n",
       "  <tbody>\n",
       "    <tr>\n",
       "      <th>0</th>\n",
       "      <td>8775</td>\n",
       "      <td>19.97</td>\n",
       "      <td>22.47</td>\n",
       "      <td>NaN</td>\n",
       "      <td>8775</td>\n",
       "      <td>servicio automotriz xolasa de cv</td>\n",
       "      <td>19.39430</td>\n",
       "      <td>-99.14134</td>\n",
       "    </tr>\n",
       "    <tr>\n",
       "      <th>1</th>\n",
       "      <td>8831</td>\n",
       "      <td>20.69</td>\n",
       "      <td>21.76</td>\n",
       "      <td>21.70</td>\n",
       "      <td>8831</td>\n",
       "      <td>operadora  la sabana sa de cv</td>\n",
       "      <td>16.83010</td>\n",
       "      <td>-99.75737</td>\n",
       "    </tr>\n",
       "    <tr>\n",
       "      <th>2</th>\n",
       "      <td>26541</td>\n",
       "      <td>15.89</td>\n",
       "      <td>NaN</td>\n",
       "      <td>19.09</td>\n",
       "      <td>26541</td>\n",
       "      <td>combustibles de orientesa de cv</td>\n",
       "      <td>26.07270</td>\n",
       "      <td>-98.29295</td>\n",
       "    </tr>\n",
       "    <tr>\n",
       "      <th>3</th>\n",
       "      <td>3348</td>\n",
       "      <td>20.49</td>\n",
       "      <td>22.19</td>\n",
       "      <td>NaN</td>\n",
       "      <td>3348</td>\n",
       "      <td>gasolineria valencianasa de cv</td>\n",
       "      <td>19.47174</td>\n",
       "      <td>-99.05446</td>\n",
       "    </tr>\n",
       "    <tr>\n",
       "      <th>4</th>\n",
       "      <td>3969</td>\n",
       "      <td>20.76</td>\n",
       "      <td>22.57</td>\n",
       "      <td>22.77</td>\n",
       "      <td>3969</td>\n",
       "      <td>comercializadora nandalumi sa de cv</td>\n",
       "      <td>16.77555</td>\n",
       "      <td>-93.10127</td>\n",
       "    </tr>\n",
       "    <tr>\n",
       "      <th>...</th>\n",
       "      <td>...</td>\n",
       "      <td>...</td>\n",
       "      <td>...</td>\n",
       "      <td>...</td>\n",
       "      <td>...</td>\n",
       "      <td>...</td>\n",
       "      <td>...</td>\n",
       "      <td>...</td>\n",
       "    </tr>\n",
       "    <tr>\n",
       "      <th>12649</th>\n",
       "      <td>11896</td>\n",
       "      <td>20.99</td>\n",
       "      <td>22.99</td>\n",
       "      <td>21.99</td>\n",
       "      <td>11896</td>\n",
       "      <td>gasolinera pirekua sa de cv</td>\n",
       "      <td>19.49753</td>\n",
       "      <td>-101.60020</td>\n",
       "    </tr>\n",
       "    <tr>\n",
       "      <th>12650</th>\n",
       "      <td>11897</td>\n",
       "      <td>20.74</td>\n",
       "      <td>22.90</td>\n",
       "      <td>NaN</td>\n",
       "      <td>11897</td>\n",
       "      <td>servicio norte 45 sa de cv</td>\n",
       "      <td>19.49570</td>\n",
       "      <td>-99.15932</td>\n",
       "    </tr>\n",
       "    <tr>\n",
       "      <th>12651</th>\n",
       "      <td>11898</td>\n",
       "      <td>19.59</td>\n",
       "      <td>21.99</td>\n",
       "      <td>NaN</td>\n",
       "      <td>11898</td>\n",
       "      <td>servicio lutronsa de cv</td>\n",
       "      <td>19.54331</td>\n",
       "      <td>-99.02317</td>\n",
       "    </tr>\n",
       "    <tr>\n",
       "      <th>12652</th>\n",
       "      <td>14539</td>\n",
       "      <td>19.81</td>\n",
       "      <td>20.80</td>\n",
       "      <td>20.10</td>\n",
       "      <td>14539</td>\n",
       "      <td>autoservicio anvales sa de cv</td>\n",
       "      <td>28.59577</td>\n",
       "      <td>-105.99860</td>\n",
       "    </tr>\n",
       "    <tr>\n",
       "      <th>12653</th>\n",
       "      <td>14580</td>\n",
       "      <td>19.99</td>\n",
       "      <td>22.89</td>\n",
       "      <td>NaN</td>\n",
       "      <td>14580</td>\n",
       "      <td>servicios gasolineros de mexicosa de cv</td>\n",
       "      <td>21.88589</td>\n",
       "      <td>-102.31300</td>\n",
       "    </tr>\n",
       "  </tbody>\n",
       "</table>\n",
       "<p>12654 rows × 8 columns</p>\n",
       "</div>"
      ],
      "text/plain": [
       "       estacion_servicio  regular  premium  diesel  id_estacion  \\\n",
       "0                   8775    19.97    22.47     NaN         8775   \n",
       "1                   8831    20.69    21.76   21.70         8831   \n",
       "2                  26541    15.89      NaN   19.09        26541   \n",
       "3                   3348    20.49    22.19     NaN         3348   \n",
       "4                   3969    20.76    22.57   22.77         3969   \n",
       "...                  ...      ...      ...     ...          ...   \n",
       "12649              11896    20.99    22.99   21.99        11896   \n",
       "12650              11897    20.74    22.90     NaN        11897   \n",
       "12651              11898    19.59    21.99     NaN        11898   \n",
       "12652              14539    19.81    20.80   20.10        14539   \n",
       "12653              14580    19.99    22.89     NaN        14580   \n",
       "\n",
       "                                        nombre   latitud   longitud  \n",
       "0             servicio automotriz xolasa de cv  19.39430  -99.14134  \n",
       "1               operadora  la sabana sa de cv   16.83010  -99.75737  \n",
       "2             combustibles de orientesa de cv   26.07270  -98.29295  \n",
       "3               gasolineria valencianasa de cv  19.47174  -99.05446  \n",
       "4          comercializadora nandalumi sa de cv  16.77555  -93.10127  \n",
       "...                                        ...       ...        ...  \n",
       "12649              gasolinera pirekua sa de cv  19.49753 -101.60020  \n",
       "12650               servicio norte 45 sa de cv  19.49570  -99.15932  \n",
       "12651                  servicio lutronsa de cv  19.54331  -99.02317  \n",
       "12652            autoservicio anvales sa de cv  28.59577 -105.99860  \n",
       "12653  servicios gasolineros de mexicosa de cv  21.88589 -102.31300  \n",
       "\n",
       "[12654 rows x 8 columns]"
      ]
     },
     "execution_count": 22,
     "metadata": {},
     "output_type": "execute_result"
    }
   ],
   "source": [
    "data=pd.merge(precios,estaciones,left_on='estacion_servicio',right_on='id_estacion')\n",
    "data"
   ]
  }
 ],
 "metadata": {
  "kernelspec": {
   "display_name": "Python 3",
   "language": "python",
   "name": "python3"
  },
  "language_info": {
   "codemirror_mode": {
    "name": "ipython",
    "version": 3
   },
   "file_extension": ".py",
   "mimetype": "text/x-python",
   "name": "python",
   "nbconvert_exporter": "python",
   "pygments_lexer": "ipython3",
   "version": "3.8.3"
  }
 },
 "nbformat": 4,
 "nbformat_minor": 4
}
