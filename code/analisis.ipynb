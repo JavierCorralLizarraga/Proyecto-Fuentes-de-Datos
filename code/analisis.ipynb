{
 "cells": [
  {
   "cell_type": "code",
   "execution_count": 1,
   "metadata": {},
   "outputs": [],
   "source": [
    "import psycopg2\n",
    "import yaml\n",
    "import pandas as pd\n",
    "import seaborn as sns\n",
    "import plotly.express as px\n",
    "import matplotlib.pyplot as plt"
   ]
  },
  {
   "cell_type": "markdown",
   "metadata": {},
   "source": [
    "**1. Ocupa la función get_db_conn() a través de la cuál obtenemos una conexión a la BD (postgres) con psycopg2 leyendo del archivo credentials.yaml (utilizando la función read_yaml()) las credenciales de acceso a la BD.**"
   ]
  },
  {
   "cell_type": "code",
   "execution_count": 2,
   "metadata": {},
   "outputs": [
    {
     "ename": "NameError",
     "evalue": "name 'read_yaml' is not defined",
     "output_type": "error",
     "traceback": [
      "\u001b[1;31m---------------------------------------------------------------------------\u001b[0m",
      "\u001b[1;31mNameError\u001b[0m                                 Traceback (most recent call last)",
      "\u001b[1;32m<ipython-input-2-6f0b9c2bc261>\u001b[0m in \u001b[0;36m<module>\u001b[1;34m\u001b[0m\n\u001b[0;32m      1\u001b[0m \u001b[1;32mdef\u001b[0m \u001b[0mget_db_conn\u001b[0m\u001b[1;33m(\u001b[0m\u001b[0mcred\u001b[0m\u001b[1;33m)\u001b[0m\u001b[1;33m:\u001b[0m\u001b[1;33m\u001b[0m\u001b[1;33m\u001b[0m\u001b[0m\n\u001b[0;32m      2\u001b[0m     \u001b[0mread_yaml\u001b[0m\u001b[1;33m(\u001b[0m\u001b[0mcred\u001b[0m\u001b[1;33m)\u001b[0m\u001b[1;33m\u001b[0m\u001b[1;33m\u001b[0m\u001b[0m\n\u001b[1;32m----> 3\u001b[1;33m \u001b[0mdb_conn\u001b[0m \u001b[1;33m=\u001b[0m \u001b[0mget_db_conn\u001b[0m\u001b[1;33m(\u001b[0m\u001b[1;34m\"conf\\\\credentials.yaml\"\u001b[0m\u001b[1;33m)\u001b[0m\u001b[1;33m\u001b[0m\u001b[1;33m\u001b[0m\u001b[0m\n\u001b[0m",
      "\u001b[1;32m<ipython-input-2-6f0b9c2bc261>\u001b[0m in \u001b[0;36mget_db_conn\u001b[1;34m(cred)\u001b[0m\n\u001b[0;32m      1\u001b[0m \u001b[1;32mdef\u001b[0m \u001b[0mget_db_conn\u001b[0m\u001b[1;33m(\u001b[0m\u001b[0mcred\u001b[0m\u001b[1;33m)\u001b[0m\u001b[1;33m:\u001b[0m\u001b[1;33m\u001b[0m\u001b[1;33m\u001b[0m\u001b[0m\n\u001b[1;32m----> 2\u001b[1;33m     \u001b[0mread_yaml\u001b[0m\u001b[1;33m(\u001b[0m\u001b[0mcred\u001b[0m\u001b[1;33m)\u001b[0m\u001b[1;33m\u001b[0m\u001b[1;33m\u001b[0m\u001b[0m\n\u001b[0m\u001b[0;32m      3\u001b[0m \u001b[0mdb_conn\u001b[0m \u001b[1;33m=\u001b[0m \u001b[0mget_db_conn\u001b[0m\u001b[1;33m(\u001b[0m\u001b[1;34m\"conf\\\\credentials.yaml\"\u001b[0m\u001b[1;33m)\u001b[0m\u001b[1;33m\u001b[0m\u001b[1;33m\u001b[0m\u001b[0m\n",
      "\u001b[1;31mNameError\u001b[0m: name 'read_yaml' is not defined"
     ]
    }
   ],
   "source": [
    "def get_db_conn(cred):\n",
    "    read_yaml(cred)\n",
    "db_conn = get_db_conn(\"conf\\\\credentials.yaml\")"
   ]
  },
  {
   "cell_type": "markdown",
   "metadata": {},
   "source": [
    "**2. Genera un query sql en donde obtengas el id_estacion, nombre, longitud, latitud, regular, preimum, diesel de todos los precios. <- Necesitarás un inner join.**"
   ]
  },
  {
   "cell_type": "code",
   "execution_count": 3,
   "metadata": {},
   "outputs": [
    {
     "ename": "NameError",
     "evalue": "name 'db_conn' is not defined",
     "output_type": "error",
     "traceback": [
      "\u001b[1;31m---------------------------------------------------------------------------\u001b[0m",
      "\u001b[1;31mNameError\u001b[0m                                 Traceback (most recent call last)",
      "\u001b[1;32m<ipython-input-3-11cf97940d2c>\u001b[0m in \u001b[0;36m<module>\u001b[1;34m\u001b[0m\n\u001b[0;32m      1\u001b[0m \u001b[0mquery\u001b[0m\u001b[1;33m=\u001b[0m\u001b[1;34m\"SELECT e.id_estacion, e.nombre, e.longitud, e.latitud, p.regular, p.premium, p.diesel FROM raw.estaciones e INNER JOIN raw.precios p on e.id_estacion = p.estacion_servicio;\"\u001b[0m\u001b[1;33m\u001b[0m\u001b[1;33m\u001b[0m\u001b[0m\n\u001b[1;32m----> 2\u001b[1;33m \u001b[0mdata\u001b[0m \u001b[1;33m=\u001b[0m \u001b[0mpd\u001b[0m\u001b[1;33m.\u001b[0m\u001b[0mread_sql\u001b[0m\u001b[1;33m(\u001b[0m\u001b[0mquery\u001b[0m\u001b[1;33m,\u001b[0m \u001b[0mdb_conn\u001b[0m\u001b[1;33m)\u001b[0m\u001b[1;33m\u001b[0m\u001b[1;33m\u001b[0m\u001b[0m\n\u001b[0m",
      "\u001b[1;31mNameError\u001b[0m: name 'db_conn' is not defined"
     ]
    }
   ],
   "source": [
    "query=\"SELECT e.id_estacion, e.nombre, e.longitud, e.latitud, p.regular, p.premium, p.diesel FROM raw.estaciones e INNER JOIN raw.precios p on e.id_estacion = p.estacion_servicio;\"\n",
    "data = pd.read_sql(query, db_conn)"
   ]
  },
  {
   "cell_type": "markdown",
   "metadata": {},
   "source": [
    "**En vista de que no me puedo conectar a la base de datos de postgres lo hare a manita**"
   ]
  },
  {
   "cell_type": "code",
   "execution_count": 4,
   "metadata": {},
   "outputs": [
    {
     "name": "stdout",
     "output_type": "stream",
     "text": [
      "   id_estacion                                 nombre    latitud  longitud\n",
      "0         2039  estacion de servicio calafia sa de cv -116.92140  32.47641\n",
      "1         2040        las mejores estaciones sa de cv  -99.74484  20.30370\n",
      "2         2041                      diaz gas sa de cv -106.45140  31.71947\n",
      "3         2042                  combuexpress sa de cv -103.30420  20.71413\n",
      "4         2043                      petromax sa de cv  -98.29977  26.03787\n",
      "   estacion_servicio  regular  premium  diesel\n",
      "0              11703    21.29    23.29     NaN\n",
      "1              11702    21.26    23.55   22.00\n",
      "2              11701    16.49      NaN   20.99\n",
      "3              11700    20.75    22.50   22.30\n",
      "4              11699    20.43    22.47     NaN\n"
     ]
    }
   ],
   "source": [
    "precios=pd.read_csv(\"precios.csv\")\n",
    "estaciones=pd.read_csv(\"estaciones.csv\")\n",
    "print(estaciones.head())\n",
    "print(precios.head())"
   ]
  },
  {
   "cell_type": "code",
   "execution_count": 5,
   "metadata": {},
   "outputs": [
    {
     "data": {
      "text/html": [
       "<div>\n",
       "<style scoped>\n",
       "    .dataframe tbody tr th:only-of-type {\n",
       "        vertical-align: middle;\n",
       "    }\n",
       "\n",
       "    .dataframe tbody tr th {\n",
       "        vertical-align: top;\n",
       "    }\n",
       "\n",
       "    .dataframe thead th {\n",
       "        text-align: right;\n",
       "    }\n",
       "</style>\n",
       "<table border=\"1\" class=\"dataframe\">\n",
       "  <thead>\n",
       "    <tr style=\"text-align: right;\">\n",
       "      <th></th>\n",
       "      <th>estacion_servicio</th>\n",
       "      <th>regular</th>\n",
       "      <th>premium</th>\n",
       "      <th>diesel</th>\n",
       "      <th>id_estacion</th>\n",
       "      <th>nombre</th>\n",
       "      <th>latitud</th>\n",
       "      <th>longitud</th>\n",
       "    </tr>\n",
       "  </thead>\n",
       "  <tbody>\n",
       "    <tr>\n",
       "      <th>0</th>\n",
       "      <td>11703</td>\n",
       "      <td>21.29</td>\n",
       "      <td>23.29</td>\n",
       "      <td>NaN</td>\n",
       "      <td>11703</td>\n",
       "      <td>servicio las torres sur sa de cv</td>\n",
       "      <td>-101.66340</td>\n",
       "      <td>21.14916</td>\n",
       "    </tr>\n",
       "    <tr>\n",
       "      <th>1</th>\n",
       "      <td>11702</td>\n",
       "      <td>21.26</td>\n",
       "      <td>23.55</td>\n",
       "      <td>22.00</td>\n",
       "      <td>11702</td>\n",
       "      <td>vigo hidrocarburos sa de cv</td>\n",
       "      <td>-107.11920</td>\n",
       "      <td>24.75731</td>\n",
       "    </tr>\n",
       "    <tr>\n",
       "      <th>2</th>\n",
       "      <td>11701</td>\n",
       "      <td>16.49</td>\n",
       "      <td>NaN</td>\n",
       "      <td>20.99</td>\n",
       "      <td>11701</td>\n",
       "      <td>energEticos valle hermoso sa de cv</td>\n",
       "      <td>-97.50779</td>\n",
       "      <td>25.84436</td>\n",
       "    </tr>\n",
       "    <tr>\n",
       "      <th>3</th>\n",
       "      <td>11700</td>\n",
       "      <td>20.75</td>\n",
       "      <td>22.50</td>\n",
       "      <td>22.30</td>\n",
       "      <td>11700</td>\n",
       "      <td>carlos cesarin ortega trujillo</td>\n",
       "      <td>-92.89879</td>\n",
       "      <td>16.54859</td>\n",
       "    </tr>\n",
       "    <tr>\n",
       "      <th>4</th>\n",
       "      <td>11699</td>\n",
       "      <td>20.43</td>\n",
       "      <td>22.47</td>\n",
       "      <td>NaN</td>\n",
       "      <td>11699</td>\n",
       "      <td>gasolinera el coyote sa de cv</td>\n",
       "      <td>-112.17220</td>\n",
       "      <td>30.72127</td>\n",
       "    </tr>\n",
       "    <tr>\n",
       "      <th>...</th>\n",
       "      <td>...</td>\n",
       "      <td>...</td>\n",
       "      <td>...</td>\n",
       "      <td>...</td>\n",
       "      <td>...</td>\n",
       "      <td>...</td>\n",
       "      <td>...</td>\n",
       "      <td>...</td>\n",
       "    </tr>\n",
       "    <tr>\n",
       "      <th>12691</th>\n",
       "      <td>11708</td>\n",
       "      <td>20.99</td>\n",
       "      <td>23.19</td>\n",
       "      <td>NaN</td>\n",
       "      <td>11708</td>\n",
       "      <td>operadora josfa sa de cv</td>\n",
       "      <td>-101.61400</td>\n",
       "      <td>21.08429</td>\n",
       "    </tr>\n",
       "    <tr>\n",
       "      <th>12692</th>\n",
       "      <td>11707</td>\n",
       "      <td>21.09</td>\n",
       "      <td>22.53</td>\n",
       "      <td>22.19</td>\n",
       "      <td>11707</td>\n",
       "      <td>operadora hb sa de cv</td>\n",
       "      <td>-96.10130</td>\n",
       "      <td>19.08608</td>\n",
       "    </tr>\n",
       "    <tr>\n",
       "      <th>12693</th>\n",
       "      <td>11706</td>\n",
       "      <td>21.09</td>\n",
       "      <td>22.53</td>\n",
       "      <td>22.19</td>\n",
       "      <td>11706</td>\n",
       "      <td>operadora hb sa de cv</td>\n",
       "      <td>-96.15018</td>\n",
       "      <td>19.10450</td>\n",
       "    </tr>\n",
       "    <tr>\n",
       "      <th>12694</th>\n",
       "      <td>11705</td>\n",
       "      <td>21.29</td>\n",
       "      <td>23.29</td>\n",
       "      <td>NaN</td>\n",
       "      <td>11705</td>\n",
       "      <td>servicio las torres norte sa de cv</td>\n",
       "      <td>-101.66280</td>\n",
       "      <td>21.14976</td>\n",
       "    </tr>\n",
       "    <tr>\n",
       "      <th>12695</th>\n",
       "      <td>11704</td>\n",
       "      <td>20.99</td>\n",
       "      <td>23.19</td>\n",
       "      <td>21.69</td>\n",
       "      <td>11704</td>\n",
       "      <td>servicio delta sa de cv</td>\n",
       "      <td>-101.62210</td>\n",
       "      <td>21.09075</td>\n",
       "    </tr>\n",
       "  </tbody>\n",
       "</table>\n",
       "<p>12696 rows × 8 columns</p>\n",
       "</div>"
      ],
      "text/plain": [
       "       estacion_servicio  regular  premium  diesel  id_estacion  \\\n",
       "0                  11703    21.29    23.29     NaN        11703   \n",
       "1                  11702    21.26    23.55   22.00        11702   \n",
       "2                  11701    16.49      NaN   20.99        11701   \n",
       "3                  11700    20.75    22.50   22.30        11700   \n",
       "4                  11699    20.43    22.47     NaN        11699   \n",
       "...                  ...      ...      ...     ...          ...   \n",
       "12691              11708    20.99    23.19     NaN        11708   \n",
       "12692              11707    21.09    22.53   22.19        11707   \n",
       "12693              11706    21.09    22.53   22.19        11706   \n",
       "12694              11705    21.29    23.29     NaN        11705   \n",
       "12695              11704    20.99    23.19   21.69        11704   \n",
       "\n",
       "                                   nombre    latitud  longitud  \n",
       "0        servicio las torres sur sa de cv -101.66340  21.14916  \n",
       "1             vigo hidrocarburos sa de cv -107.11920  24.75731  \n",
       "2      energEticos valle hermoso sa de cv  -97.50779  25.84436  \n",
       "3          carlos cesarin ortega trujillo  -92.89879  16.54859  \n",
       "4           gasolinera el coyote sa de cv -112.17220  30.72127  \n",
       "...                                   ...        ...       ...  \n",
       "12691            operadora josfa sa de cv -101.61400  21.08429  \n",
       "12692               operadora hb sa de cv  -96.10130  19.08608  \n",
       "12693               operadora hb sa de cv  -96.15018  19.10450  \n",
       "12694  servicio las torres norte sa de cv -101.66280  21.14976  \n",
       "12695             servicio delta sa de cv -101.62210  21.09075  \n",
       "\n",
       "[12696 rows x 8 columns]"
      ]
     },
     "execution_count": 5,
     "metadata": {},
     "output_type": "execute_result"
    }
   ],
   "source": [
    "data=pd.merge(precios,estaciones,left_on='estacion_servicio',right_on='id_estacion')\n",
    "data"
   ]
  },
  {
   "cell_type": "code",
   "execution_count": null,
   "metadata": {},
   "outputs": [],
   "source": []
  },
  {
   "cell_type": "code",
   "execution_count": null,
   "metadata": {},
   "outputs": [],
   "source": []
  }
 ],
 "metadata": {
  "kernelspec": {
   "display_name": "Python 3",
   "language": "python",
   "name": "python3"
  },
  "language_info": {
   "codemirror_mode": {
    "name": "ipython",
    "version": 3
   },
   "file_extension": ".py",
   "mimetype": "text/x-python",
   "name": "python",
   "nbconvert_exporter": "python",
   "pygments_lexer": "ipython3",
   "version": "3.8.3"
  }
 },
 "nbformat": 4,
 "nbformat_minor": 4
}
